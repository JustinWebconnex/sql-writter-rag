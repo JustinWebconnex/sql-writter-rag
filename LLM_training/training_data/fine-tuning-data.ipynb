{
 "cells": [
  {
   "cell_type": "code",
   "execution_count": 6,
   "metadata": {},
   "outputs": [
    {
     "name": "stdout",
     "output_type": "stream",
     "text": [
      "Structured data saved to 'structured_output.csv'. Total entries: 1977\n"
     ]
    }
   ],
   "source": [
    "import pandas as pd\n",
    "import re\n",
    "\n",
    "def extract_to_dataframe(text):\n",
    "    try:\n",
    "        # Define the regex pattern to extract instruction, input, and answer (as output)\n",
    "        pattern = r'\"instruction\"\\s*:\\s*\"([^\"]+)\"\\s*,\\s*\"input\"\\s*:\\s*\"([^\"]+)\"\\s*,\\s*\"answer\"\\s*:\\s*\"(.+)\"'\n",
    "        match = re.search(pattern, text, re.DOTALL)\n",
    "\n",
    "        if match:\n",
    "            # Return a list of the extracted components\n",
    "            return [match.group(1), match.group(2), match.group(3)]\n",
    "        else:\n",
    "            return None\n",
    "    except ValueError:\n",
    "        return None\n",
    "\n",
    "# Load your CSV file\n",
    "file_path = '../raw_data/structured_instruct_input_output_pairs-3-10.csv'\n",
    "data = pd.read_csv(file_path)\n",
    "\n",
    "# Apply the function to extract data and create a DataFrame\n",
    "data['extracted_data'] = data['output'].apply(extract_to_dataframe)\n",
    "clean_data = data['extracted_data'].dropna().apply(pd.Series)\n",
    "clean_data.columns = ['instruction', 'input', 'output']  # Rename the 'answer' column to 'output'\n",
    "\n",
    "# Save the new DataFrame to a CSV file\n",
    "clean_data.to_csv(\"structured_output_4.csv\", index=False)\n",
    "print(f\"Structured data saved to 'structured_output.csv'. Total entries: {len(clean_data)}\")\n"
   ]
  },
  {
   "cell_type": "markdown",
   "metadata": {},
   "source": [
    "--------------------"
   ]
  },
  {
   "cell_type": "markdown",
   "metadata": {},
   "source": [
    "Not good practice but for now it's ok"
   ]
  },
  {
   "cell_type": "code",
   "execution_count": 7,
   "metadata": {},
   "outputs": [
    {
     "name": "stdout",
     "output_type": "stream",
     "text": [
      "Datasets combined. Total number of rows: 7727\n"
     ]
    }
   ],
   "source": [
    "import pandas as pd\n",
    "\n",
    "# Paths to your CSV files\n",
    "path1 = 'structured_output_1.csv'\n",
    "path2 = 'structured_output_2.csv'\n",
    "path3 = 'structured_output_3.csv'\n",
    "path4 = 'structured_output_4.csv'\n",
    "# Read the datasets\n",
    "df1 = pd.read_csv(path1)\n",
    "df2 = pd.read_csv(path2)\n",
    "df3 = pd.read_csv(path3)\n",
    "df4 = pd.read_csv(path4)\n",
    "# Combine the datasets into one DataFrame\n",
    "combined_df = pd.concat([df1, df2, df3, df4], ignore_index=True)\n",
    "\n",
    "# Optionally, you can save the combined dataset to a new CSV file\n",
    "combined_df.to_csv('combined_dataset_fine_tune_8k.csv', index=False)\n",
    "\n",
    "print(\"Datasets combined. Total number of rows:\", len(combined_df))\n"
   ]
  },
  {
   "cell_type": "code",
   "execution_count": 13,
   "metadata": {},
   "outputs": [
    {
     "data": {
      "text/plain": [
       "'Provide the SQL query that retrieves the necessary data for a specific transaction type, status, and payment gateway type, aggregated by various account and product dimensions.'"
      ]
     },
     "execution_count": 13,
     "metadata": {},
     "output_type": "execute_result"
    }
   ],
   "source": [
    "combined_df.loc[6000]['instruction']"
   ]
  },
  {
   "cell_type": "code",
   "execution_count": 18,
   "metadata": {},
   "outputs": [
    {
     "name": "stderr",
     "output_type": "stream",
     "text": [
      "INFO:root:Starting exchange rate update...\n"
     ]
    }
   ],
   "source": [
    "import requests\n",
    "import pandas as pd\n",
    "import logging\n",
    "import time\n",
    "import os\n",
    "from datetime import datetime as dt\n",
    "\n",
    "API_URL = \"https://openexchangerates.org/api/latest.json\"\n",
    "APP_ID = \"ec2dc509f48a472fab8993b5363a0d92\"\n",
    "\n",
    "def fetch_exchange_rates():\n",
    "    response = requests.get(f\"{API_URL}?app_id={APP_ID}\")\n",
    "    if response.status_code == 200:\n",
    "        return response.json()\n",
    "    else:\n",
    "        raise Exception(\"Failed to fetch exchange rates\")\n",
    "\n",
    "\n",
    "logging.basicConfig(level=logging.INFO)\n",
    "logger = logging.getLogger()\n",
    "logger.info(\"Starting exchange rate update...\")\n",
    "t0 = time.time()\n",
    "\n",
    "# Fetch current exchange rates\n",
    "data = fetch_exchange_rates()\n",
    "rates = data[\"rates\"]\n",
    "timestamp = dt.utcfromtimestamp(data[\"timestamp\"]).strftime('%Y-%m-%d %H:%M:%S')\n",
    "\n",
    "# Create DataFrame\n",
    "df = pd.DataFrame(rates.items(), columns=[\"currency\", \"rate\"])\n",
    "df[\"timestamp\"] = timestamp"
   ]
  },
  {
   "cell_type": "code",
   "execution_count": 22,
   "metadata": {},
   "outputs": [
    {
     "data": {
      "text/plain": [
       "{'AED': 3.6729,\n",
       " 'AFN': 72.303439,\n",
       " 'ALL': 93.075798,\n",
       " 'AMD': 387.584387,\n",
       " 'ANG': 1.802059,\n",
       " 'AOA': 834.06,\n",
       " 'ARS': 885.2787,\n",
       " 'AUD': 1.510157,\n",
       " 'AWG': 1.8,\n",
       " 'AZN': 1.7,\n",
       " 'BAM': 1.811337,\n",
       " 'BBD': 2,\n",
       " 'BDT': 116.989513,\n",
       " 'BGN': 1.809668,\n",
       " 'BHD': 0.376846,\n",
       " 'BIF': 2874.5,\n",
       " 'BMD': 1,\n",
       " 'BND': 1.353085,\n",
       " 'BOB': 6.908975,\n",
       " 'BRL': 5.1343,\n",
       " 'BSD': 1,\n",
       " 'BTC': 1.6187709e-05,\n",
       " 'BTN': 83.504788,\n",
       " 'BWP': 13.594751,\n",
       " 'BYN': 3.272224,\n",
       " 'BZD': 2.015457,\n",
       " 'CAD': 1.365238,\n",
       " 'CDF': 2800,\n",
       " 'CHF': 0.90678,\n",
       " 'CLF': 0.033311,\n",
       " 'CLP': 919.13,\n",
       " 'CNH': 7.241788,\n",
       " 'CNY': 7.2337,\n",
       " 'COP': 3874.57,\n",
       " 'CRC': 512.246387,\n",
       " 'CUC': 1,\n",
       " 'CUP': 25.75,\n",
       " 'CVE': 102.55,\n",
       " 'CZK': 22.9263,\n",
       " 'DJF': 176.5,\n",
       " 'DKK': 6.896913,\n",
       " 'DOP': 58.49475,\n",
       " 'DZD': 134.340476,\n",
       " 'EGP': 46.8507,\n",
       " 'ERN': 15,\n",
       " 'ETB': 57.424422,\n",
       " 'EUR': 0.924415,\n",
       " 'FJD': 2.2432,\n",
       " 'FKP': 0.794417,\n",
       " 'GBP': 0.794417,\n",
       " 'GEL': 2.67125,\n",
       " 'GGP': 0.794417,\n",
       " 'GHS': 14.042048,\n",
       " 'GIP': 0.794417,\n",
       " 'GMD': 67.75,\n",
       " 'GNF': 8592.5,\n",
       " 'GTQ': 7.769283,\n",
       " 'GYD': 209.187382,\n",
       " 'HKD': 7.812125,\n",
       " 'HNL': 24.71394,\n",
       " 'HRK': 6.963887,\n",
       " 'HTG': 132.567087,\n",
       " 'HUF': 356.498006,\n",
       " 'IDR': 16114.869771,\n",
       " 'ILS': 3.69638,\n",
       " 'IMP': 0.794417,\n",
       " 'INR': 83.507478,\n",
       " 'IQD': 1309.833332,\n",
       " 'IRR': 42062.5,\n",
       " 'ISK': 139.12,\n",
       " 'JEP': 0.794417,\n",
       " 'JMD': 156.31328,\n",
       " 'JOD': 0.7089,\n",
       " 'JPY': 156.5074,\n",
       " 'KES': 131,\n",
       " 'KGS': 88.3346,\n",
       " 'KHR': 4078.72343,\n",
       " 'KMF': 456.350278,\n",
       " 'KPW': 900,\n",
       " 'KRW': 1366.553453,\n",
       " 'KWD': 0.30752,\n",
       " 'KYD': 0.833245,\n",
       " 'KZT': 441.230011,\n",
       " 'LAK': 21362.706933,\n",
       " 'LBP': 89587.5,\n",
       " 'LKR': 299.21658,\n",
       " 'LRD': 193.499938,\n",
       " 'LSL': 18.397322,\n",
       " 'LYD': 4.855731,\n",
       " 'MAD': 10.021996,\n",
       " 'MDL': 17.680433,\n",
       " 'MGA': 4426.929461,\n",
       " 'MKD': 56.882658,\n",
       " 'MMK': 2099.736369,\n",
       " 'MNT': 3450,\n",
       " 'MOP': 8.045659,\n",
       " 'MRU': 39.65,\n",
       " 'MUR': 46.1,\n",
       " 'MVR': 15.45,\n",
       " 'MWK': 1733.182119,\n",
       " 'MXN': 16.84563,\n",
       " 'MYR': 4.732,\n",
       " 'MZN': 63.850001,\n",
       " 'NAD': 18.397322,\n",
       " 'NGN': 1492.99,\n",
       " 'NIO': 36.804645,\n",
       " 'NOK': 10.82187,\n",
       " 'NPR': 133.605901,\n",
       " 'NZD': 1.657474,\n",
       " 'OMR': 0.384839,\n",
       " 'PAB': 1,\n",
       " 'PEN': 3.727941,\n",
       " 'PGK': 3.880474,\n",
       " 'PHP': 57.667753,\n",
       " 'PKR': 278.139038,\n",
       " 'PLN': 3.947399,\n",
       " 'PYG': 7505.452883,\n",
       " 'QAR': 3.6405,\n",
       " 'RON': 4.6001,\n",
       " 'RSD': 108.298,\n",
       " 'RUB': 91.324201,\n",
       " 'RWF': 1296.764503,\n",
       " 'SAR': 3.750468,\n",
       " 'SBD': 8.47594,\n",
       " 'SCR': 13.854968,\n",
       " 'SDG': 601,\n",
       " 'SEK': 10.828338,\n",
       " 'SGD': 1.35232,\n",
       " 'SHP': 0.794417,\n",
       " 'SLL': 20969.5,\n",
       " 'SOS': 571,\n",
       " 'SRD': 32.1355,\n",
       " 'SSP': 130.26,\n",
       " 'STD': 22281.8,\n",
       " 'STN': 22.690333,\n",
       " 'SVC': 8.749207,\n",
       " 'SYP': 2512.53,\n",
       " 'SZL': 18.400471,\n",
       " 'THB': 36.607,\n",
       " 'TJS': 10.908577,\n",
       " 'TMT': 3.51,\n",
       " 'TND': 3.118,\n",
       " 'TOP': 2.370985,\n",
       " 'TRY': 32.266679,\n",
       " 'TTD': 6.786725,\n",
       " 'TWD': 32.359,\n",
       " 'TZS': 2594.658173,\n",
       " 'UAH': 39.596664,\n",
       " 'UGX': 3766.367011,\n",
       " 'USD': 1,\n",
       " 'UYU': 38.549499,\n",
       " 'UZS': 12698.372802,\n",
       " 'VES': 36.564364,\n",
       " 'VND': 25458.250123,\n",
       " 'VUV': 118.722,\n",
       " 'WST': 2.8,\n",
       " 'XAF': 606.376504,\n",
       " 'XAG': 0.03515865,\n",
       " 'XAU': 0.00042576,\n",
       " 'XCD': 2.70255,\n",
       " 'XDR': 0.757024,\n",
       " 'XOF': 606.376504,\n",
       " 'XPD': 0.001018,\n",
       " 'XPF': 110.312055,\n",
       " 'XPT': 0.00096758,\n",
       " 'YER': 250.320094,\n",
       " 'ZAR': 18.423136,\n",
       " 'ZMW': 25.022343,\n",
       " 'ZWL': 322}"
      ]
     },
     "execution_count": 22,
     "metadata": {},
     "output_type": "execute_result"
    }
   ],
   "source": [
    "rates"
   ]
  },
  {
   "cell_type": "code",
   "execution_count": null,
   "metadata": {},
   "outputs": [],
   "source": []
  }
 ],
 "metadata": {
  "kernelspec": {
   "display_name": "venv",
   "language": "python",
   "name": "python3"
  },
  "language_info": {
   "codemirror_mode": {
    "name": "ipython",
    "version": 3
   },
   "file_extension": ".py",
   "mimetype": "text/x-python",
   "name": "python",
   "nbconvert_exporter": "python",
   "pygments_lexer": "ipython3",
   "version": "3.11.9"
  }
 },
 "nbformat": 4,
 "nbformat_minor": 2
}
